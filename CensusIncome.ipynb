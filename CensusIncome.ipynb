{
 "cells": [
  {
   "metadata": {},
   "cell_type": "markdown",
   "source": [
    "# پروژه نهایی تحلیل داده \n",
    "برای پروژه نهایی قرار است که با مجموعه داده سرشماری بزرگسالان ایالات متحده آمریکا کار کنم که در آن درآمد را به عوامل اجتماعی از جمله سن، تحصیلات، وضعیت تاهل، نژاد، جنسیت و چند مورد دیگر مرتبط می کند. مجموعه داده ها از رپیزوتری دانشگاه کالیفرنیا، ایروین (UCI) به دست آمده است.با این که داده ها قدیمی هستند اما مهم است که ببینیم چگونه عوامل اجتماعی که به درآمد کمک می کنند و در صورت انتشار داده های جدید میتوان بررسی کرد که چطور در طول سال ها تاثیرات این عوامل تغییر کرده اند. به این ترتیب ما می توانیم متوجه شویم که آیا پیشرفتی در پر کردن شکاف درآمدی بر اساس این عوامل صورت گرفته است یا خیر؟"
   ],
   "id": "c93da8efd75bba04"
  },
  {
   "metadata": {},
   "cell_type": "code",
   "outputs": [],
   "execution_count": null,
   "source": "",
   "id": "adda4f8692490fab"
  }
 ],
 "metadata": {
  "kernelspec": {
   "display_name": "Python 3",
   "language": "python",
   "name": "python3"
  },
  "language_info": {
   "codemirror_mode": {
    "name": "ipython",
    "version": 2
   },
   "file_extension": ".py",
   "mimetype": "text/x-python",
   "name": "python",
   "nbconvert_exporter": "python",
   "pygments_lexer": "ipython2",
   "version": "2.7.6"
  }
 },
 "nbformat": 4,
 "nbformat_minor": 5
}
